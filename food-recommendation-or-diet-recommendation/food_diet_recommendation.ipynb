{
 "cells": [
  {
   "cell_type": "markdown",
   "id": "d38092d1-da8b-47a5-9003-3c12fcad5f63",
   "metadata": {},
   "source": [
    "#### ----------------------------------------------------------------------------------------------------------------------------------\n",
    "### Description of the project.\n",
    "\n",
    "##### As the name of the project is food recommendation system or diet recommendation system.\n",
    "\n",
    "##### In this we take different parameter and then apply the scaling and word embedding on the iput parameters and give the recommendation.\n",
    "\n",
    "#### -----------------------------------------------------------------------------------------------------------------------------------"
   ]
  },
  {
   "cell_type": "code",
   "execution_count": 1,
   "id": "7e1b29ce-9550-4d7d-8b4a-8e8afa797a48",
   "metadata": {},
   "outputs": [],
   "source": [
    "#Here we import the important libraries.\n",
    "\n",
    "import numpy as np\n",
    "import pandas as pd\n",
    "import matplotlib.pyplot as plt\n",
    "import seaborn as sns\n",
    "from sklearn.preprocessing import StandardScaler\n",
    "from sklearn.feature_extraction.text import TfidfVectorizer"
   ]
  },
  {
   "cell_type": "code",
   "execution_count": 2,
   "id": "5046b7af-0f84-4a91-a2a9-de4f452c17b7",
   "metadata": {},
   "outputs": [],
   "source": [
    "#Now we read the dataset.\n",
    "\n",
    "df=pd.read_csv(r\"C:\\sudhanshu_projects\\project-task-training-course\\food-recommendation-or-diet-recommendation\\recipe_final.csv\")"
   ]
  },
  {
   "cell_type": "code",
   "execution_count": 3,
   "id": "ee254e1c-4236-4211-a617-2e50613995e4",
   "metadata": {},
   "outputs": [
    {
     "data": {
      "text/html": [
       "<div>\n",
       "<style scoped>\n",
       "    .dataframe tbody tr th:only-of-type {\n",
       "        vertical-align: middle;\n",
       "    }\n",
       "\n",
       "    .dataframe tbody tr th {\n",
       "        vertical-align: top;\n",
       "    }\n",
       "\n",
       "    .dataframe thead th {\n",
       "        text-align: right;\n",
       "    }\n",
       "</style>\n",
       "<table border=\"1\" class=\"dataframe\">\n",
       "  <thead>\n",
       "    <tr style=\"text-align: right;\">\n",
       "      <th></th>\n",
       "      <th>Unnamed: 0</th>\n",
       "      <th>recipe_id</th>\n",
       "      <th>recipe_name</th>\n",
       "      <th>aver_rate</th>\n",
       "      <th>image_url</th>\n",
       "      <th>review_nums</th>\n",
       "      <th>calories</th>\n",
       "      <th>fat</th>\n",
       "      <th>carbohydrates</th>\n",
       "      <th>protein</th>\n",
       "      <th>cholesterol</th>\n",
       "      <th>sodium</th>\n",
       "      <th>fiber</th>\n",
       "      <th>ingredients_list</th>\n",
       "    </tr>\n",
       "  </thead>\n",
       "  <tbody>\n",
       "    <tr>\n",
       "      <th>0</th>\n",
       "      <td>0</td>\n",
       "      <td>222388</td>\n",
       "      <td>Homemade Bacon</td>\n",
       "      <td>5.00</td>\n",
       "      <td>https://images.media-allrecipes.com/userphotos...</td>\n",
       "      <td>3</td>\n",
       "      <td>15</td>\n",
       "      <td>36</td>\n",
       "      <td>1</td>\n",
       "      <td>42</td>\n",
       "      <td>21</td>\n",
       "      <td>81</td>\n",
       "      <td>2</td>\n",
       "      <td>['pork belly', 'smoked paprika', 'kosher salt'...</td>\n",
       "    </tr>\n",
       "    <tr>\n",
       "      <th>1</th>\n",
       "      <td>1</td>\n",
       "      <td>240488</td>\n",
       "      <td>Pork Loin, Apples, and Sauerkraut</td>\n",
       "      <td>4.76</td>\n",
       "      <td>https://images.media-allrecipes.com/userphotos...</td>\n",
       "      <td>29</td>\n",
       "      <td>19</td>\n",
       "      <td>18</td>\n",
       "      <td>10</td>\n",
       "      <td>73</td>\n",
       "      <td>33</td>\n",
       "      <td>104</td>\n",
       "      <td>41</td>\n",
       "      <td>['sauerkraut drained', 'Granny Smith apples sl...</td>\n",
       "    </tr>\n",
       "    <tr>\n",
       "      <th>2</th>\n",
       "      <td>2</td>\n",
       "      <td>218939</td>\n",
       "      <td>Foolproof Rosemary Chicken Wings</td>\n",
       "      <td>4.57</td>\n",
       "      <td>https://images.media-allrecipes.com/userphotos...</td>\n",
       "      <td>12</td>\n",
       "      <td>17</td>\n",
       "      <td>36</td>\n",
       "      <td>2</td>\n",
       "      <td>48</td>\n",
       "      <td>24</td>\n",
       "      <td>31</td>\n",
       "      <td>4</td>\n",
       "      <td>['chicken wings', 'sprigs rosemary', 'head gar...</td>\n",
       "    </tr>\n",
       "    <tr>\n",
       "      <th>3</th>\n",
       "      <td>3</td>\n",
       "      <td>87211</td>\n",
       "      <td>Chicken Pesto Paninis</td>\n",
       "      <td>4.62</td>\n",
       "      <td>https://images.media-allrecipes.com/userphotos...</td>\n",
       "      <td>163</td>\n",
       "      <td>32</td>\n",
       "      <td>45</td>\n",
       "      <td>20</td>\n",
       "      <td>65</td>\n",
       "      <td>20</td>\n",
       "      <td>43</td>\n",
       "      <td>18</td>\n",
       "      <td>['focaccia bread quartered', 'prepared basil p...</td>\n",
       "    </tr>\n",
       "    <tr>\n",
       "      <th>4</th>\n",
       "      <td>4</td>\n",
       "      <td>245714</td>\n",
       "      <td>Potato Bacon Pizza</td>\n",
       "      <td>4.50</td>\n",
       "      <td>https://images.media-allrecipes.com/userphotos...</td>\n",
       "      <td>2</td>\n",
       "      <td>8</td>\n",
       "      <td>12</td>\n",
       "      <td>5</td>\n",
       "      <td>14</td>\n",
       "      <td>7</td>\n",
       "      <td>8</td>\n",
       "      <td>3</td>\n",
       "      <td>['red potatoes', 'strips bacon', 'Sauce:', 'he...</td>\n",
       "    </tr>\n",
       "  </tbody>\n",
       "</table>\n",
       "</div>"
      ],
      "text/plain": [
       "   Unnamed: 0  recipe_id                        recipe_name  aver_rate  \\\n",
       "0           0     222388                     Homemade Bacon       5.00   \n",
       "1           1     240488  Pork Loin, Apples, and Sauerkraut       4.76   \n",
       "2           2     218939   Foolproof Rosemary Chicken Wings       4.57   \n",
       "3           3      87211              Chicken Pesto Paninis       4.62   \n",
       "4           4     245714                 Potato Bacon Pizza       4.50   \n",
       "\n",
       "                                           image_url  review_nums  calories  \\\n",
       "0  https://images.media-allrecipes.com/userphotos...            3        15   \n",
       "1  https://images.media-allrecipes.com/userphotos...           29        19   \n",
       "2  https://images.media-allrecipes.com/userphotos...           12        17   \n",
       "3  https://images.media-allrecipes.com/userphotos...          163        32   \n",
       "4  https://images.media-allrecipes.com/userphotos...            2         8   \n",
       "\n",
       "   fat  carbohydrates  protein  cholesterol  sodium  fiber  \\\n",
       "0   36              1       42           21      81      2   \n",
       "1   18             10       73           33     104     41   \n",
       "2   36              2       48           24      31      4   \n",
       "3   45             20       65           20      43     18   \n",
       "4   12              5       14            7       8      3   \n",
       "\n",
       "                                    ingredients_list  \n",
       "0  ['pork belly', 'smoked paprika', 'kosher salt'...  \n",
       "1  ['sauerkraut drained', 'Granny Smith apples sl...  \n",
       "2  ['chicken wings', 'sprigs rosemary', 'head gar...  \n",
       "3  ['focaccia bread quartered', 'prepared basil p...  \n",
       "4  ['red potatoes', 'strips bacon', 'Sauce:', 'he...  "
      ]
     },
     "execution_count": 3,
     "metadata": {},
     "output_type": "execute_result"
    }
   ],
   "source": [
    "#Here we check the top records of the dataset.\n",
    "\n",
    "df.head()"
   ]
  },
  {
   "cell_type": "code",
   "execution_count": 4,
   "id": "df37aa7f-fd60-449e-827f-493118c22630",
   "metadata": {},
   "outputs": [],
   "source": [
    "#Now here we firstly remove the unuseful column from the dataset.\n",
    "\n",
    "df.drop(\"Unnamed: 0\",axis=1,inplace=True)"
   ]
  },
  {
   "cell_type": "code",
   "execution_count": 5,
   "id": "865c8ae1-ebc0-4319-8d3b-f72032fce306",
   "metadata": {},
   "outputs": [
    {
     "data": {
      "text/html": [
       "<div>\n",
       "<style scoped>\n",
       "    .dataframe tbody tr th:only-of-type {\n",
       "        vertical-align: middle;\n",
       "    }\n",
       "\n",
       "    .dataframe tbody tr th {\n",
       "        vertical-align: top;\n",
       "    }\n",
       "\n",
       "    .dataframe thead th {\n",
       "        text-align: right;\n",
       "    }\n",
       "</style>\n",
       "<table border=\"1\" class=\"dataframe\">\n",
       "  <thead>\n",
       "    <tr style=\"text-align: right;\">\n",
       "      <th></th>\n",
       "      <th>recipe_id</th>\n",
       "      <th>recipe_name</th>\n",
       "      <th>aver_rate</th>\n",
       "      <th>image_url</th>\n",
       "      <th>review_nums</th>\n",
       "      <th>calories</th>\n",
       "      <th>fat</th>\n",
       "      <th>carbohydrates</th>\n",
       "      <th>protein</th>\n",
       "      <th>cholesterol</th>\n",
       "      <th>sodium</th>\n",
       "      <th>fiber</th>\n",
       "      <th>ingredients_list</th>\n",
       "    </tr>\n",
       "  </thead>\n",
       "  <tbody>\n",
       "    <tr>\n",
       "      <th>0</th>\n",
       "      <td>222388</td>\n",
       "      <td>Homemade Bacon</td>\n",
       "      <td>5.00</td>\n",
       "      <td>https://images.media-allrecipes.com/userphotos...</td>\n",
       "      <td>3</td>\n",
       "      <td>15</td>\n",
       "      <td>36</td>\n",
       "      <td>1</td>\n",
       "      <td>42</td>\n",
       "      <td>21</td>\n",
       "      <td>81</td>\n",
       "      <td>2</td>\n",
       "      <td>['pork belly', 'smoked paprika', 'kosher salt'...</td>\n",
       "    </tr>\n",
       "    <tr>\n",
       "      <th>1</th>\n",
       "      <td>240488</td>\n",
       "      <td>Pork Loin, Apples, and Sauerkraut</td>\n",
       "      <td>4.76</td>\n",
       "      <td>https://images.media-allrecipes.com/userphotos...</td>\n",
       "      <td>29</td>\n",
       "      <td>19</td>\n",
       "      <td>18</td>\n",
       "      <td>10</td>\n",
       "      <td>73</td>\n",
       "      <td>33</td>\n",
       "      <td>104</td>\n",
       "      <td>41</td>\n",
       "      <td>['sauerkraut drained', 'Granny Smith apples sl...</td>\n",
       "    </tr>\n",
       "    <tr>\n",
       "      <th>2</th>\n",
       "      <td>218939</td>\n",
       "      <td>Foolproof Rosemary Chicken Wings</td>\n",
       "      <td>4.57</td>\n",
       "      <td>https://images.media-allrecipes.com/userphotos...</td>\n",
       "      <td>12</td>\n",
       "      <td>17</td>\n",
       "      <td>36</td>\n",
       "      <td>2</td>\n",
       "      <td>48</td>\n",
       "      <td>24</td>\n",
       "      <td>31</td>\n",
       "      <td>4</td>\n",
       "      <td>['chicken wings', 'sprigs rosemary', 'head gar...</td>\n",
       "    </tr>\n",
       "    <tr>\n",
       "      <th>3</th>\n",
       "      <td>87211</td>\n",
       "      <td>Chicken Pesto Paninis</td>\n",
       "      <td>4.62</td>\n",
       "      <td>https://images.media-allrecipes.com/userphotos...</td>\n",
       "      <td>163</td>\n",
       "      <td>32</td>\n",
       "      <td>45</td>\n",
       "      <td>20</td>\n",
       "      <td>65</td>\n",
       "      <td>20</td>\n",
       "      <td>43</td>\n",
       "      <td>18</td>\n",
       "      <td>['focaccia bread quartered', 'prepared basil p...</td>\n",
       "    </tr>\n",
       "    <tr>\n",
       "      <th>4</th>\n",
       "      <td>245714</td>\n",
       "      <td>Potato Bacon Pizza</td>\n",
       "      <td>4.50</td>\n",
       "      <td>https://images.media-allrecipes.com/userphotos...</td>\n",
       "      <td>2</td>\n",
       "      <td>8</td>\n",
       "      <td>12</td>\n",
       "      <td>5</td>\n",
       "      <td>14</td>\n",
       "      <td>7</td>\n",
       "      <td>8</td>\n",
       "      <td>3</td>\n",
       "      <td>['red potatoes', 'strips bacon', 'Sauce:', 'he...</td>\n",
       "    </tr>\n",
       "  </tbody>\n",
       "</table>\n",
       "</div>"
      ],
      "text/plain": [
       "   recipe_id                        recipe_name  aver_rate  \\\n",
       "0     222388                     Homemade Bacon       5.00   \n",
       "1     240488  Pork Loin, Apples, and Sauerkraut       4.76   \n",
       "2     218939   Foolproof Rosemary Chicken Wings       4.57   \n",
       "3      87211              Chicken Pesto Paninis       4.62   \n",
       "4     245714                 Potato Bacon Pizza       4.50   \n",
       "\n",
       "                                           image_url  review_nums  calories  \\\n",
       "0  https://images.media-allrecipes.com/userphotos...            3        15   \n",
       "1  https://images.media-allrecipes.com/userphotos...           29        19   \n",
       "2  https://images.media-allrecipes.com/userphotos...           12        17   \n",
       "3  https://images.media-allrecipes.com/userphotos...          163        32   \n",
       "4  https://images.media-allrecipes.com/userphotos...            2         8   \n",
       "\n",
       "   fat  carbohydrates  protein  cholesterol  sodium  fiber  \\\n",
       "0   36              1       42           21      81      2   \n",
       "1   18             10       73           33     104     41   \n",
       "2   36              2       48           24      31      4   \n",
       "3   45             20       65           20      43     18   \n",
       "4   12              5       14            7       8      3   \n",
       "\n",
       "                                    ingredients_list  \n",
       "0  ['pork belly', 'smoked paprika', 'kosher salt'...  \n",
       "1  ['sauerkraut drained', 'Granny Smith apples sl...  \n",
       "2  ['chicken wings', 'sprigs rosemary', 'head gar...  \n",
       "3  ['focaccia bread quartered', 'prepared basil p...  \n",
       "4  ['red potatoes', 'strips bacon', 'Sauce:', 'he...  "
      ]
     },
     "execution_count": 5,
     "metadata": {},
     "output_type": "execute_result"
    }
   ],
   "source": [
    "#Now here we again check the top records of the dataset.\n",
    "\n",
    "df.head()"
   ]
  },
  {
   "cell_type": "code",
   "execution_count": 6,
   "id": "48d4a801-8d8e-48c6-a72f-56daf28d28c8",
   "metadata": {},
   "outputs": [
    {
     "data": {
      "text/plain": [
       "(48735, 13)"
      ]
     },
     "execution_count": 6,
     "metadata": {},
     "output_type": "execute_result"
    }
   ],
   "source": [
    "#Here we check the shape of dataset.\n",
    "\n",
    "df.shape"
   ]
  },
  {
   "cell_type": "code",
   "execution_count": 7,
   "id": "4abd4e58-026c-44cc-b1bf-b87ebca3eca9",
   "metadata": {},
   "outputs": [
    {
     "data": {
      "text/plain": [
       "recipe_id           0\n",
       "recipe_name         0\n",
       "aver_rate           0\n",
       "image_url           0\n",
       "review_nums         0\n",
       "calories            0\n",
       "fat                 0\n",
       "carbohydrates       0\n",
       "protein             0\n",
       "cholesterol         0\n",
       "sodium              0\n",
       "fiber               0\n",
       "ingredients_list    0\n",
       "dtype: int64"
      ]
     },
     "execution_count": 7,
     "metadata": {},
     "output_type": "execute_result"
    }
   ],
   "source": [
    "#Now here we check is there any null value present in the dataset.\n",
    "\n",
    "df.isnull().sum()"
   ]
  },
  {
   "cell_type": "code",
   "execution_count": 8,
   "id": "c37a4f8d-9e66-440b-aec7-30a0c1fd40a0",
   "metadata": {},
   "outputs": [],
   "source": [
    "#Now here we try to take the numerical columns separately.\n",
    "\n",
    "numerical_cols=[\"calories\",\"fat\",\"carbohydrates\",\"protein\",\"cholesterol\",\"sodium\",\"fiber\"]\n",
    "\n",
    "categorical_col=\"ingredients_list\""
   ]
  },
  {
   "cell_type": "code",
   "execution_count": 9,
   "id": "d27ee58c-44b9-412b-90a4-224a9d42c137",
   "metadata": {},
   "outputs": [],
   "source": [
    "#Now here we use the standardard scaler to scaled the numerical data.\n",
    "\n",
    "sc=StandardScaler()\n",
    "\n",
    "scaled_data=sc.fit_transform(df[numerical_cols])"
   ]
  },
  {
   "cell_type": "code",
   "execution_count": 10,
   "id": "891a14eb-df25-457a-bcc5-cbf711ef1f4f",
   "metadata": {},
   "outputs": [
    {
     "data": {
      "text/plain": [
       "array([[-0.1317045 ,  0.46001924, -1.15482863, ...,  0.04256474,\n",
       "         1.13990476, -0.76393724],\n",
       "       [ 0.23857551, -0.33625589, -0.01920347, ...,  0.52871248,\n",
       "         1.59202345,  2.53220175],\n",
       "       [ 0.05343551,  0.46001924, -1.02864806, ...,  0.16410167,\n",
       "         0.15703804, -0.59490447],\n",
       "       ...,\n",
       "       [-0.77969453, -0.82286847, -0.27156462, ..., -0.68665688,\n",
       "        -0.39336732, -0.25683894],\n",
       "       [ 0.33114552,  0.32730672,  0.73787996, ...,  0.20461398,\n",
       "        -0.31473798, -0.51038809],\n",
       "       [-1.33511455, -0.9998185 , -1.02864806, ..., -0.80819381,\n",
       "        -0.13782197, -0.42587171]])"
      ]
     },
     "execution_count": 10,
     "metadata": {},
     "output_type": "execute_result"
    }
   ],
   "source": [
    "#Here we chrck the scaled_data.\n",
    "\n",
    "scaled_data"
   ]
  },
  {
   "cell_type": "code",
   "execution_count": 11,
   "id": "c70e0284-cfeb-4793-8717-6d555930b222",
   "metadata": {},
   "outputs": [],
   "source": [
    "#Now here we do word embedding.\n",
    "\n",
    "tf=TfidfVectorizer()\n",
    "\n",
    "embedded_data=tf.fit_transform(df[categorical_col])"
   ]
  },
  {
   "cell_type": "code",
   "execution_count": 12,
   "id": "7c3fc417-06b0-4cc8-b51a-cb82f5b6cf67",
   "metadata": {},
   "outputs": [
    {
     "data": {
      "text/plain": [
       "(48735, 4898)"
      ]
     },
     "execution_count": 12,
     "metadata": {},
     "output_type": "execute_result"
    }
   ],
   "source": [
    "#Now here we check the shape of embedded_data.\n",
    "\n",
    "embedded_data.shape"
   ]
  },
  {
   "cell_type": "code",
   "execution_count": 13,
   "id": "fc9cd2a0-1929-4314-95dd-d1318e05d56a",
   "metadata": {},
   "outputs": [],
   "source": [
    "#Here we stack both the columns.\n",
    "\n",
    "combined_df=np.hstack([scaled_data,embedded_data.toarray()])"
   ]
  },
  {
   "cell_type": "code",
   "execution_count": 14,
   "id": "3cd213b4-184d-42fc-8918-4c4b04ecd72c",
   "metadata": {},
   "outputs": [
    {
     "data": {
      "text/plain": [
       "(48735, 4905)"
      ]
     },
     "execution_count": 14,
     "metadata": {},
     "output_type": "execute_result"
    }
   ],
   "source": [
    "#Here we check the shape of combined_df.\n",
    "\n",
    "combined_df.shape"
   ]
  },
  {
   "cell_type": "code",
   "execution_count": 15,
   "id": "a77f8f06-6efc-46bb-b226-9293fc894f42",
   "metadata": {},
   "outputs": [
    {
     "data": {
      "text/html": [
       "<style>#sk-container-id-1 {color: black;background-color: white;}#sk-container-id-1 pre{padding: 0;}#sk-container-id-1 div.sk-toggleable {background-color: white;}#sk-container-id-1 label.sk-toggleable__label {cursor: pointer;display: block;width: 100%;margin-bottom: 0;padding: 0.3em;box-sizing: border-box;text-align: center;}#sk-container-id-1 label.sk-toggleable__label-arrow:before {content: \"▸\";float: left;margin-right: 0.25em;color: #696969;}#sk-container-id-1 label.sk-toggleable__label-arrow:hover:before {color: black;}#sk-container-id-1 div.sk-estimator:hover label.sk-toggleable__label-arrow:before {color: black;}#sk-container-id-1 div.sk-toggleable__content {max-height: 0;max-width: 0;overflow: hidden;text-align: left;background-color: #f0f8ff;}#sk-container-id-1 div.sk-toggleable__content pre {margin: 0.2em;color: black;border-radius: 0.25em;background-color: #f0f8ff;}#sk-container-id-1 input.sk-toggleable__control:checked~div.sk-toggleable__content {max-height: 200px;max-width: 100%;overflow: auto;}#sk-container-id-1 input.sk-toggleable__control:checked~label.sk-toggleable__label-arrow:before {content: \"▾\";}#sk-container-id-1 div.sk-estimator input.sk-toggleable__control:checked~label.sk-toggleable__label {background-color: #d4ebff;}#sk-container-id-1 div.sk-label input.sk-toggleable__control:checked~label.sk-toggleable__label {background-color: #d4ebff;}#sk-container-id-1 input.sk-hidden--visually {border: 0;clip: rect(1px 1px 1px 1px);clip: rect(1px, 1px, 1px, 1px);height: 1px;margin: -1px;overflow: hidden;padding: 0;position: absolute;width: 1px;}#sk-container-id-1 div.sk-estimator {font-family: monospace;background-color: #f0f8ff;border: 1px dotted black;border-radius: 0.25em;box-sizing: border-box;margin-bottom: 0.5em;}#sk-container-id-1 div.sk-estimator:hover {background-color: #d4ebff;}#sk-container-id-1 div.sk-parallel-item::after {content: \"\";width: 100%;border-bottom: 1px solid gray;flex-grow: 1;}#sk-container-id-1 div.sk-label:hover label.sk-toggleable__label {background-color: #d4ebff;}#sk-container-id-1 div.sk-serial::before {content: \"\";position: absolute;border-left: 1px solid gray;box-sizing: border-box;top: 0;bottom: 0;left: 50%;z-index: 0;}#sk-container-id-1 div.sk-serial {display: flex;flex-direction: column;align-items: center;background-color: white;padding-right: 0.2em;padding-left: 0.2em;position: relative;}#sk-container-id-1 div.sk-item {position: relative;z-index: 1;}#sk-container-id-1 div.sk-parallel {display: flex;align-items: stretch;justify-content: center;background-color: white;position: relative;}#sk-container-id-1 div.sk-item::before, #sk-container-id-1 div.sk-parallel-item::before {content: \"\";position: absolute;border-left: 1px solid gray;box-sizing: border-box;top: 0;bottom: 0;left: 50%;z-index: -1;}#sk-container-id-1 div.sk-parallel-item {display: flex;flex-direction: column;z-index: 1;position: relative;background-color: white;}#sk-container-id-1 div.sk-parallel-item:first-child::after {align-self: flex-end;width: 50%;}#sk-container-id-1 div.sk-parallel-item:last-child::after {align-self: flex-start;width: 50%;}#sk-container-id-1 div.sk-parallel-item:only-child::after {width: 0;}#sk-container-id-1 div.sk-dashed-wrapped {border: 1px dashed gray;margin: 0 0.4em 0.5em 0.4em;box-sizing: border-box;padding-bottom: 0.4em;background-color: white;}#sk-container-id-1 div.sk-label label {font-family: monospace;font-weight: bold;display: inline-block;line-height: 1.2em;}#sk-container-id-1 div.sk-label-container {text-align: center;}#sk-container-id-1 div.sk-container {/* jupyter's `normalize.less` sets `[hidden] { display: none; }` but bootstrap.min.css set `[hidden] { display: none !important; }` so we also need the `!important` here to be able to override the default hidden behavior on the sphinx rendered scikit-learn.org. See: https://github.com/scikit-learn/scikit-learn/issues/21755 */display: inline-block !important;position: relative;}#sk-container-id-1 div.sk-text-repr-fallback {display: none;}</style><div id=\"sk-container-id-1\" class=\"sk-top-container\"><div class=\"sk-text-repr-fallback\"><pre>NearestNeighbors(metric=&#x27;euclidean&#x27;, n_neighbors=3)</pre><b>In a Jupyter environment, please rerun this cell to show the HTML representation or trust the notebook. <br />On GitHub, the HTML representation is unable to render, please try loading this page with nbviewer.org.</b></div><div class=\"sk-container\" hidden><div class=\"sk-item\"><div class=\"sk-estimator sk-toggleable\"><input class=\"sk-toggleable__control sk-hidden--visually\" id=\"sk-estimator-id-1\" type=\"checkbox\" checked><label for=\"sk-estimator-id-1\" class=\"sk-toggleable__label sk-toggleable__label-arrow\">NearestNeighbors</label><div class=\"sk-toggleable__content\"><pre>NearestNeighbors(metric=&#x27;euclidean&#x27;, n_neighbors=3)</pre></div></div></div></div></div>"
      ],
      "text/plain": [
       "NearestNeighbors(metric='euclidean', n_neighbors=3)"
      ]
     },
     "execution_count": 15,
     "metadata": {},
     "output_type": "execute_result"
    }
   ],
   "source": [
    "#Now here we apply knearest neighbours.\n",
    "\n",
    "from sklearn.neighbors import  NearestNeighbors\n",
    "\n",
    "knn=NearestNeighbors(n_neighbors=3,metric=\"euclidean\")\n",
    "\n",
    "knn.fit(combined_df)"
   ]
  },
  {
   "cell_type": "code",
   "execution_count": 16,
   "id": "a9756973-2f2a-4a75-b32c-76177cb37e53",
   "metadata": {},
   "outputs": [],
   "source": [
    "#Now here we create one function which do this thing for us.\n",
    "\n",
    "def predict_diet(input_df):\n",
    "    input_scaled_df=sc.fit_transform([input_df[:7]])\n",
    "    input_embedded_df=tf.transform([input_df[7]])\n",
    "    combined_input_df=np.hstack([input_scaled_df,input_embedded_df.toarray()])\n",
    "    distance,index=knn.kneighbors(combined_input_df)\n",
    "    prediction=df.iloc[index[0]]\n",
    "\n",
    "    return prediction[['recipe_name', 'ingredients_list']] "
   ]
  },
  {
   "cell_type": "code",
   "execution_count": 22,
   "id": "9b04a4be-0765-4db6-baa4-f720893fb175",
   "metadata": {},
   "outputs": [
    {
     "data": {
      "text/html": [
       "<div>\n",
       "<style scoped>\n",
       "    .dataframe tbody tr th:only-of-type {\n",
       "        vertical-align: middle;\n",
       "    }\n",
       "\n",
       "    .dataframe tbody tr th {\n",
       "        vertical-align: top;\n",
       "    }\n",
       "\n",
       "    .dataframe thead th {\n",
       "        text-align: right;\n",
       "    }\n",
       "</style>\n",
       "<table border=\"1\" class=\"dataframe\">\n",
       "  <thead>\n",
       "    <tr style=\"text-align: right;\">\n",
       "      <th></th>\n",
       "      <th>recipe_name</th>\n",
       "      <th>ingredients_list</th>\n",
       "      <th>image_url</th>\n",
       "    </tr>\n",
       "  </thead>\n",
       "  <tbody>\n",
       "    <tr>\n",
       "      <th>6596</th>\n",
       "      <td>Mushroom, Leek, Chicken Sausage and Tortellini...</td>\n",
       "      <td>['olive oil', 'large mushrooms chopped', 'larg...</td>\n",
       "      <td>https://images.media-allrecipes.com/userphotos...</td>\n",
       "    </tr>\n",
       "    <tr>\n",
       "      <th>1543</th>\n",
       "      <td>Amazing and Easy Chicken Wings</td>\n",
       "      <td>['brown sugar', 'yellow mustard', 'soy sauce',...</td>\n",
       "      <td>https://images.media-allrecipes.com/userphotos...</td>\n",
       "    </tr>\n",
       "    <tr>\n",
       "      <th>5898</th>\n",
       "      <td>Mustard Fried Chicken</td>\n",
       "      <td>['chicken wings', 'seasoned salt', 'garlic pow...</td>\n",
       "      <td>https://images.media-allrecipes.com/userphotos...</td>\n",
       "    </tr>\n",
       "  </tbody>\n",
       "</table>\n",
       "</div>"
      ],
      "text/plain": [
       "                                            recipe_name  \\\n",
       "6596  Mushroom, Leek, Chicken Sausage and Tortellini...   \n",
       "1543                     Amazing and Easy Chicken Wings   \n",
       "5898                              Mustard Fried Chicken   \n",
       "\n",
       "                                       ingredients_list  \\\n",
       "6596  ['olive oil', 'large mushrooms chopped', 'larg...   \n",
       "1543  ['brown sugar', 'yellow mustard', 'soy sauce',...   \n",
       "5898  ['chicken wings', 'seasoned salt', 'garlic pow...   \n",
       "\n",
       "                                              image_url  \n",
       "6596  https://images.media-allrecipes.com/userphotos...  \n",
       "1543  https://images.media-allrecipes.com/userphotos...  \n",
       "5898  https://images.media-allrecipes.com/userphotos...  "
      ]
     },
     "execution_count": 22,
     "metadata": {},
     "output_type": "execute_result"
    }
   ],
   "source": [
    "input_data=[15, 36, 1, 42, 21, 81, 2,\" chicken wings, sprigs rosemary, head garlic, olive oil, lemon pepper, seasoned salt\"]\n",
    "\n",
    "recommendation=predict_diet(input_data)\n",
    "\n",
    "recommendation"
   ]
  },
  {
   "cell_type": "code",
   "execution_count": 20,
   "id": "8fc5add9-e4cb-40a6-8e3a-637db26395ac",
   "metadata": {},
   "outputs": [
    {
     "data": {
      "text/plain": [
       "7952    https://images.media-allrecipes.com/userphotos...\n",
       "9229    https://images.media-allrecipes.com/userphotos...\n",
       "9718    https://images.media-allrecipes.com/userphotos...\n",
       "Name: image_url, dtype: object"
      ]
     },
     "execution_count": 20,
     "metadata": {},
     "output_type": "execute_result"
    }
   ],
   "source": [
    "recommendation[\"image_url\"]"
   ]
  },
  {
   "cell_type": "code",
   "execution_count": 21,
   "id": "eb353150-530c-4f31-bf5b-8ef884e2844e",
   "metadata": {},
   "outputs": [
    {
     "data": {
      "text/plain": [
       "\"['chicken wings', 'sprigs rosemary', 'head garlic', 'olive oil', 'lemon pepper', 'seasoned salt']\""
      ]
     },
     "execution_count": 21,
     "metadata": {},
     "output_type": "execute_result"
    }
   ],
   "source": [
    "df[\"ingredients_list\"][2]"
   ]
  },
  {
   "cell_type": "code",
   "execution_count": null,
   "id": "d0342863-2214-44a0-af3a-d1ab99a33729",
   "metadata": {},
   "outputs": [],
   "source": []
  }
 ],
 "metadata": {
  "kernelspec": {
   "display_name": "Python 3 (ipykernel)",
   "language": "python",
   "name": "python3"
  },
  "language_info": {
   "codemirror_mode": {
    "name": "ipython",
    "version": 3
   },
   "file_extension": ".py",
   "mimetype": "text/x-python",
   "name": "python",
   "nbconvert_exporter": "python",
   "pygments_lexer": "ipython3",
   "version": "3.11.4"
  }
 },
 "nbformat": 4,
 "nbformat_minor": 5
}
